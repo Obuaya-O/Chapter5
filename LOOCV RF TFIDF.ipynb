{
 "cells": [
  {
   "cell_type": "markdown",
   "metadata": {},
   "source": [
    "LOOCV: TF-IDF features + RF"
   ]
  },
  {
   "cell_type": "code",
   "execution_count": 1,
   "metadata": {},
   "outputs": [],
   "source": [
    "import pandas as pd\n",
    "from pandas import read_csv\n",
    "\n",
    "import numpy as np\n",
    "from numpy import mean, std\n",
    "\n",
    "from sklearn.model_selection import LeaveOneOut\n",
    "from sklearn.model_selection import cross_val_score\n",
    "from sklearn.pipeline import make_pipeline\n",
    "from sklearn.preprocessing import StandardScaler\n",
    "from sklearn.ensemble import RandomForestClassifier\n",
    "\n",
    "from sklearn.metrics import precision_score, recall_score, accuracy_score, f1_score, confusion_matrix, ConfusionMatrixDisplay\n",
    "\n",
    "import matplotlib.pyplot as plt\n",
    "import seaborn as sns\n",
    "from sklearn.feature_extraction.text import TfidfVectorizer"
   ]
  },
  {
   "cell_type": "code",
   "execution_count": 2,
   "metadata": {},
   "outputs": [],
   "source": [
    "euct_df = pd.read_csv('c:\\\\Users\\\\s2421127\\\\Documents\\\\NLP Project\\\\ObuayaO\\\\NLP project\\\\Chapter 3\\\\euct_ns.csv', encoding='unicode_escape') \n",
    "# Data already preprocess since classification tasks"
   ]
  },
  {
   "cell_type": "markdown",
   "metadata": {},
   "source": [
    "LOOCV"
   ]
  },
  {
   "cell_type": "code",
   "execution_count": 3,
   "metadata": {},
   "outputs": [
    {
     "data": {
      "text/html": [
       "<div>\n",
       "<style scoped>\n",
       "    .dataframe tbody tr th:only-of-type {\n",
       "        vertical-align: middle;\n",
       "    }\n",
       "\n",
       "    .dataframe tbody tr th {\n",
       "        vertical-align: top;\n",
       "    }\n",
       "\n",
       "    .dataframe thead th {\n",
       "        text-align: right;\n",
       "    }\n",
       "</style>\n",
       "<table border=\"1\" class=\"dataframe\">\n",
       "  <thead>\n",
       "    <tr style=\"text-align: right;\">\n",
       "      <th></th>\n",
       "      <th>EudraCT_No</th>\n",
       "      <th>Title</th>\n",
       "      <th>Phase</th>\n",
       "      <th>Objective</th>\n",
       "      <th>End_date</th>\n",
       "      <th>Sample_size</th>\n",
       "      <th>pr_endpoint</th>\n",
       "      <th>endpoint_description</th>\n",
       "      <th>Treatment</th>\n",
       "      <th>LT_followup</th>\n",
       "      <th>manual_label</th>\n",
       "      <th>concat_corpus</th>\n",
       "    </tr>\n",
       "  </thead>\n",
       "  <tbody>\n",
       "    <tr>\n",
       "      <th>0</th>\n",
       "      <td>2018-003243-39</td>\n",
       "      <td>phase 3 randomized double blind placebo contro...</td>\n",
       "      <td>3</td>\n",
       "      <td>primary purpose study evaluate safety efficacy...</td>\n",
       "      <td>NaN</td>\n",
       "      <td>175</td>\n",
       "      <td>change baseline myasthenia gravis activity dai...</td>\n",
       "      <td>mg adl 8 point questionnaire focusing relevant...</td>\n",
       "      <td>Ravulizumab</td>\n",
       "      <td>No</td>\n",
       "      <td>0</td>\n",
       "      <td>phase 3 randomized double blind placebo contro...</td>\n",
       "    </tr>\n",
       "    <tr>\n",
       "      <th>1</th>\n",
       "      <td>2009-016138-29</td>\n",
       "      <td>randomized multicenter open label phase iii st...</td>\n",
       "      <td>iii</td>\n",
       "      <td>compare efficacy plitidepsin combination dexam...</td>\n",
       "      <td>20-Nov-17</td>\n",
       "      <td>255</td>\n",
       "      <td>progression free survival independent review c...</td>\n",
       "      <td>primary study analysis based externally assess...</td>\n",
       "      <td>Aplidin</td>\n",
       "      <td>No</td>\n",
       "      <td>2</td>\n",
       "      <td>randomized multicenter open label phase iii st...</td>\n",
       "    </tr>\n",
       "    <tr>\n",
       "      <th>2</th>\n",
       "      <td>2016-000474-38</td>\n",
       "      <td>multicenter 2 cohort trial first as pharmacoki...</td>\n",
       "      <td>0</td>\n",
       "      <td>demonstrate fenfluramine hydrochloride superio...</td>\n",
       "      <td>05-Jun-18</td>\n",
       "      <td>87</td>\n",
       "      <td>change convulsive seizure frequency csf baseli...</td>\n",
       "      <td>baseline adjusted csf mean number convulsive s...</td>\n",
       "      <td>fenfluramine hydrochloride</td>\n",
       "      <td>Yes</td>\n",
       "      <td>0</td>\n",
       "      <td>multicenter 2 cohort trial first as pharmacoki...</td>\n",
       "    </tr>\n",
       "    <tr>\n",
       "      <th>3</th>\n",
       "      <td>2014-000418-75</td>\n",
       "      <td>multicenter multinational randomized double bl...</td>\n",
       "      <td>0</td>\n",
       "      <td>primary objective study as efficacy laquinimod...</td>\n",
       "      <td>19-Jun-18</td>\n",
       "      <td>352</td>\n",
       "      <td>change baseline uhdrs tm week 52</td>\n",
       "      <td>uhdrs as motor function cognition behaviour fu...</td>\n",
       "      <td>Placebo</td>\n",
       "      <td>No</td>\n",
       "      <td>0</td>\n",
       "      <td>multicenter multinational randomized double bl...</td>\n",
       "    </tr>\n",
       "    <tr>\n",
       "      <th>4</th>\n",
       "      <td>2012-002933-12</td>\n",
       "      <td>phase ii pilot study explore treatment sodium ...</td>\n",
       "      <td>ii</td>\n",
       "      <td>determine whether patient taking medicine call...</td>\n",
       "      <td>10-Dec-18</td>\n",
       "      <td>8</td>\n",
       "      <td>workload</td>\n",
       "      <td>participant cycled cycle ergometer oxygen cons...</td>\n",
       "      <td>Sodium Valproate</td>\n",
       "      <td>No</td>\n",
       "      <td>1</td>\n",
       "      <td>phase ii pilot study explore treatment sodium ...</td>\n",
       "    </tr>\n",
       "  </tbody>\n",
       "</table>\n",
       "</div>"
      ],
      "text/plain": [
       "       EudraCT_No                                              Title Phase  \\\n",
       "0  2018-003243-39  phase 3 randomized double blind placebo contro...     3   \n",
       "1  2009-016138-29  randomized multicenter open label phase iii st...   iii   \n",
       "2  2016-000474-38  multicenter 2 cohort trial first as pharmacoki...     0   \n",
       "3  2014-000418-75  multicenter multinational randomized double bl...     0   \n",
       "4  2012-002933-12  phase ii pilot study explore treatment sodium ...    ii   \n",
       "\n",
       "                                           Objective   End_date  Sample_size  \\\n",
       "0  primary purpose study evaluate safety efficacy...        NaN          175   \n",
       "1  compare efficacy plitidepsin combination dexam...  20-Nov-17          255   \n",
       "2  demonstrate fenfluramine hydrochloride superio...  05-Jun-18           87   \n",
       "3  primary objective study as efficacy laquinimod...  19-Jun-18          352   \n",
       "4  determine whether patient taking medicine call...  10-Dec-18            8   \n",
       "\n",
       "                                         pr_endpoint  \\\n",
       "0  change baseline myasthenia gravis activity dai...   \n",
       "1  progression free survival independent review c...   \n",
       "2  change convulsive seizure frequency csf baseli...   \n",
       "3                   change baseline uhdrs tm week 52   \n",
       "4                                           workload   \n",
       "\n",
       "                                endpoint_description  \\\n",
       "0  mg adl 8 point questionnaire focusing relevant...   \n",
       "1  primary study analysis based externally assess...   \n",
       "2  baseline adjusted csf mean number convulsive s...   \n",
       "3  uhdrs as motor function cognition behaviour fu...   \n",
       "4  participant cycled cycle ergometer oxygen cons...   \n",
       "\n",
       "                    Treatment LT_followup  manual_label  \\\n",
       "0                 Ravulizumab          No             0   \n",
       "1                     Aplidin          No             2   \n",
       "2  fenfluramine hydrochloride         Yes             0   \n",
       "3                     Placebo          No             0   \n",
       "4            Sodium Valproate          No             1   \n",
       "\n",
       "                                       concat_corpus  \n",
       "0  phase 3 randomized double blind placebo contro...  \n",
       "1  randomized multicenter open label phase iii st...  \n",
       "2  multicenter 2 cohort trial first as pharmacoki...  \n",
       "3  multicenter multinational randomized double bl...  \n",
       "4  phase ii pilot study explore treatment sodium ...  "
      ]
     },
     "execution_count": 3,
     "metadata": {},
     "output_type": "execute_result"
    }
   ],
   "source": [
    "euct_df['concat_corpus'] = euct_df['Title']+ \" \" + euct_df['Objective'] + \" \" + euct_df['pr_endpoint'] + \" \" + euct_df['endpoint_description']\n",
    "euct_df.head()"
   ]
  },
  {
   "cell_type": "code",
   "execution_count": 4,
   "metadata": {},
   "outputs": [],
   "source": [
    "# Fill NaN values with an empty string\n",
    "euct_df['concat_corpus'] = euct_df['concat_corpus'].fillna('')"
   ]
  },
  {
   "cell_type": "code",
   "execution_count": 5,
   "metadata": {},
   "outputs": [],
   "source": [
    "vectorizer = TfidfVectorizer(analyzer='word', min_df=10, ngram_range=(1,3))\n",
    "tfidf_matrix = vectorizer.fit_transform(euct_df['concat_corpus'])\n",
    "tfidf_df = pd.DataFrame(tfidf_matrix.toarray(), columns=vectorizer.get_feature_names_out())"
   ]
  },
  {
   "cell_type": "code",
   "execution_count": 6,
   "metadata": {},
   "outputs": [],
   "source": [
    "X = tfidf_df\n",
    "y = euct_df['manual_label'].values"
   ]
  },
  {
   "cell_type": "code",
   "execution_count": 7,
   "metadata": {},
   "outputs": [
    {
     "name": "stdout",
     "output_type": "stream",
     "text": [
      "Initial DataFrame shape: (190, 12)\n",
      "Shape after dropping NaNs: (190, 12)\n"
     ]
    }
   ],
   "source": [
    "print(\"Initial DataFrame shape:\", euct_df.shape)\n",
    "euct_df.dropna(subset=['concat_corpus', 'manual_label'], inplace=True)  # Drop rows with NaN values in relevant columns\n",
    "print(\"Shape after dropping NaNs:\", euct_df.shape)"
   ]
  },
  {
   "cell_type": "code",
   "execution_count": 8,
   "metadata": {},
   "outputs": [
    {
     "name": "stdout",
     "output_type": "stream",
     "text": [
      "Features shape: (190, 353), Target shape: (190,)\n"
     ]
    }
   ],
   "source": [
    "print(f'Features shape: {X.shape}, Target shape: {y.shape}')"
   ]
  },
  {
   "cell_type": "code",
   "execution_count": 9,
   "metadata": {},
   "outputs": [],
   "source": [
    "if X.shape[0] != y.shape[0]:\n",
    "    raise ValueError(\"Features and target variable have inconsistent number of samples.\")"
   ]
  },
  {
   "cell_type": "code",
   "execution_count": 12,
   "metadata": {},
   "outputs": [
    {
     "name": "stdout",
     "output_type": "stream",
     "text": [
      "Best parameters found:  {'randomforestclassifier__criterion': 'entropy', 'randomforestclassifier__max_depth': 10, 'randomforestclassifier__min_samples_leaf': 2, 'randomforestclassifier__min_samples_split': 5, 'randomforestclassifier__n_estimators': 50, 'randomforestclassifier__random_state': 42}\n"
     ]
    }
   ],
   "source": [
    "from sklearn.model_selection import GridSearchCV\n",
    "\n",
    "parameters = {'randomforestclassifier__n_estimators': (50, 100, 200), 'randomforestclassifier__criterion': ['gini', 'entropy'], 'randomforestclassifier__max_depth': [None, 10, 20], 'randomforestclassifier__min_samples_split': [2, 5, 10], 'randomforestclassifier__min_samples_leaf': [2, 5, 10], 'randomforestclassifier__random_state': [42]}\n",
    "\n",
    "rfc = RandomForestClassifier()\n",
    "pipeline = make_pipeline(StandardScaler(), rfc)\n",
    "rfc = GridSearchCV(pipeline, parameters, cv=10)\n",
    "rfc.fit(X, y)\n",
    "\n",
    "# Display the best parameters found by GridSearchCV\n",
    "print(\"Best parameters found: \", rfc.best_params_)"
   ]
  },
  {
   "cell_type": "code",
   "execution_count": 13,
   "metadata": {},
   "outputs": [],
   "source": [
    "loo = LeaveOneOut()\n",
    "predictions = []\n",
    "actuals = []"
   ]
  },
  {
   "cell_type": "code",
   "execution_count": 14,
   "metadata": {},
   "outputs": [],
   "source": [
    "rfc = RandomForestClassifier(n_estimators = 50, criterion='entropy', max_depth=10, min_samples_split =5, min_samples_leaf=2,  random_state = 42)"
   ]
  },
  {
   "cell_type": "code",
   "execution_count": 15,
   "metadata": {},
   "outputs": [],
   "source": [
    "for train_index, test_index in loo.split(X):\n",
    "    X_train, X_test = X.iloc[train_index], X.iloc[test_index]\n",
    "    y_train, y_test = y[train_index], y[test_index]\n",
    "\n",
    "    rfc.fit(X_train, y_train)\n",
    "\n",
    "    y_pred = rfc.predict(X_test)\n",
    "\n",
    "    predictions.append(y_pred[0])\n",
    "    actuals.append(y_test[0])"
   ]
  },
  {
   "cell_type": "code",
   "execution_count": 16,
   "metadata": {},
   "outputs": [
    {
     "name": "stdout",
     "output_type": "stream",
     "text": [
      "LOOCV Accuracy (Weighted): 0.72\n",
      "LOOCV Precision (Weighted): 0.66\n",
      "LOOCV Recall (Weighted): 0.72\n",
      "LOOCV F1 Score (Weighted): 0.65\n",
      "\n",
      "LOOCV Accuracy (Unweighted): 0.72\n",
      "Precision, Recall, and F1 Score by Class:\n",
      "  Class 0: Precision=0.70, Recall=0.98, F1 Score=0.82\n",
      "  Class 1: Precision=0.00, Recall=0.00, F1 Score=0.00\n",
      "  Class 2: Precision=0.94, Recall=0.40, F1 Score=0.56\n",
      "\n",
      "Mean and Standard Deviation of Precision: Mean=0.55, Std=0.40\n",
      "Mean and Standard Deviation of Recall: Mean=0.46, Std=0.40\n",
      "Mean and Standard Deviation of F1 Score: Mean=0.46, Std=0.34\n"
     ]
    }
   ],
   "source": [
    "from sklearn.metrics import classification_report\n",
    "accuracy_weighted = accuracy_score(actuals, predictions)\n",
    "precision_weighted = precision_score(actuals, predictions, average='weighted')\n",
    "recall_weighted = recall_score(actuals, predictions, average='weighted')\n",
    "f1_weighted = f1_score(actuals, predictions, average='weighted')\n",
    "\n",
    "accuracy_unweighted = accuracy_score(actuals, predictions)\n",
    "classification_metrics = classification_report(actuals, predictions, output_dict=True)\n",
    "\n",
    "# Print metrics\n",
    "print(f'LOOCV Accuracy (Weighted): {accuracy_weighted:.2f}')\n",
    "print(f'LOOCV Precision (Weighted): {precision_weighted:.2f}')\n",
    "print(f'LOOCV Recall (Weighted): {recall_weighted:.2f}')\n",
    "print(f'LOOCV F1 Score (Weighted): {f1_weighted:.2f}')\n",
    "print()\n",
    "\n",
    "print(f'LOOCV Accuracy (Unweighted): {accuracy_unweighted:.2f}')\n",
    "print(\"Precision, Recall, and F1 Score by Class:\")\n",
    "for cls, metrics in classification_metrics.items():\n",
    "    if cls.isdigit():  # Filter class-specific metrics\n",
    "        print(f\"  Class {cls}: Precision={metrics['precision']:.2f}, Recall={metrics['recall']:.2f}, F1 Score={metrics['f1-score']:.2f}\")\n",
    "\n",
    "# Calculate mean and standard deviation of precision, recall, and F1 scores across classes\n",
    "class_precisions = [metrics['precision'] for cls, metrics in classification_metrics.items() if cls.isdigit()]\n",
    "class_recalls = [metrics['recall'] for cls, metrics in classification_metrics.items() if cls.isdigit()]\n",
    "class_f1_scores = [metrics['f1-score'] for cls, metrics in classification_metrics.items() if cls.isdigit()]\n",
    "\n",
    "print()\n",
    "print(f'Mean and Standard Deviation of Precision: Mean={np.mean(class_precisions):.2f}, Std={np.std(class_precisions):.2f}')\n",
    "print(f'Mean and Standard Deviation of Recall: Mean={np.mean(class_recalls):.2f}, Std={np.std(class_recalls):.2f}')\n",
    "print(f'Mean and Standard Deviation of F1 Score: Mean={np.mean(class_f1_scores):.2f}, Std={np.std(class_f1_scores):.2f}')"
   ]
  },
  {
   "cell_type": "code",
   "execution_count": 17,
   "metadata": {},
   "outputs": [
    {
     "data": {
      "image/png": "[encoded data removed]",
      "text/plain": [
       "<Figure size 640x480 with 2 Axes>"
      ]
     },
     "metadata": {},
     "output_type": "display_data"
    }
   ],
   "source": [
    "conf_matrix = confusion_matrix(actuals, predictions)\n",
    "disp = ConfusionMatrixDisplay(confusion_matrix=conf_matrix, display_labels=rfc.classes_)\n",
    "disp.plot(cmap=plt.cm.Greens)\n",
    "plt.title('Confusion Matrix of Estimated Performance When Making Predictions On New Data Based on Concatenated Text')\n",
    "plt.show()"
   ]
  }
 ],
 "metadata": {
  "kernelspec": {
   "display_name": "clustering_endpoints",
   "language": "python",
   "name": "python3"
  },
  "language_info": {
   "codemirror_mode": {
    "name": "ipython",
    "version": 3
   },
   "file_extension": ".py",
   "mimetype": "text/x-python",
   "name": "python",
   "nbconvert_exporter": "python",
   "pygments_lexer": "ipython3",
   "version": "3.11.9"
  }
 },
 "nbformat": 4,
 "nbformat_minor": 2
}
