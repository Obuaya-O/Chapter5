{
 "cells": [
  {
   "cell_type": "markdown",
   "metadata": {},
   "source": [
    "Train classifier of primary endpoint type in EUCT-NS dataset using CNB with TF-IDF Features"
   ]
  },
  {
   "cell_type": "code",
   "execution_count": 1,
   "metadata": {},
   "outputs": [],
   "source": [
    "import pandas as pd\n",
    "\n",
    "import numpy as np \n",
    "from numpy import mean, std\n",
    "\n",
    "from sklearn.pipeline import make_pipeline\n",
    "from sklearn.model_selection import train_test_split\n",
    "from sklearn.preprocessing import StandardScaler\n",
    "from sklearn.naive_bayes import ComplementNB \n",
    "from sklearn.metrics import precision_score, recall_score, accuracy_score, f1_score, confusion_matrix, ConfusionMatrixDisplay, roc_auc_score, classification_report\n",
    "import joblib\n",
    "\n",
    "import nltk\n",
    "\n",
    "import matplotlib.pyplot as plt\n",
    "from sklearn.feature_extraction.text import TfidfVectorizer\n",
    "import tqdm as notebook_tqdm\n",
    "\n",
    "import joblib"
   ]
  },
  {
   "cell_type": "markdown",
   "metadata": {},
   "source": [
    "Train the classifier"
   ]
  },
  {
   "cell_type": "code",
   "execution_count": 2,
   "metadata": {},
   "outputs": [],
   "source": [
    "euct_ns = pd.read_csv('c:\\\\Users\\\\s2421127\\\\Documents\\\\NLP Project\\\\ObuayaO\\\\NLP project\\\\Chapter 3\\\\euct_ns.csv', encoding='unicode_escape')"
   ]
  },
  {
   "cell_type": "code",
   "execution_count": 3,
   "metadata": {},
   "outputs": [],
   "source": [
    "euct_ns['concat_corpus'] = euct_ns['Title']+ \" \" + euct_ns['Objective'] + \" \" + euct_ns['pr_endpoint'] + \" \" + euct_ns['endpoint_description']"
   ]
  },
  {
   "cell_type": "code",
   "execution_count": 4,
   "metadata": {},
   "outputs": [],
   "source": [
    "euct_ns['concat_corpus'] = euct_ns['concat_corpus'].fillna('')"
   ]
  },
  {
   "cell_type": "code",
   "execution_count": 5,
   "metadata": {},
   "outputs": [],
   "source": [
    "vectorizer = TfidfVectorizer(analyzer='word', min_df=10, ngram_range=(1,3))\n",
    "tfidf_matrix = vectorizer.fit_transform(euct_ns['concat_corpus'])\n",
    "tfidf_df = pd.DataFrame(tfidf_matrix.toarray(), columns=vectorizer.get_feature_names_out())"
   ]
  },
  {
   "cell_type": "code",
   "execution_count": 6,
   "metadata": {},
   "outputs": [],
   "source": [
    "X = tfidf_df\n",
    "y = euct_ns['manual_label'].values"
   ]
  },
  {
   "cell_type": "code",
   "execution_count": 7,
   "metadata": {},
   "outputs": [
    {
     "data": {
      "text/plain": [
       "['tf_idf embeddings.pkl']"
      ]
     },
     "execution_count": 7,
     "metadata": {},
     "output_type": "execute_result"
    }
   ],
   "source": [
    "joblib.dump(vectorizer, \"tf_idf embeddings.pkl\")"
   ]
  },
  {
   "cell_type": "code",
   "execution_count": 8,
   "metadata": {},
   "outputs": [],
   "source": [
    "# Train-test split\n",
    "X_train, X_test, y_train, y_test = train_test_split(\n",
    "    X, y, test_size=0.2, random_state=42\n",
    ")"
   ]
  },
  {
   "cell_type": "code",
   "execution_count": 9,
   "metadata": {},
   "outputs": [
    {
     "data": {
      "text/plain": [
       "['CNB_pipeline.pkl']"
      ]
     },
     "execution_count": 9,
     "metadata": {},
     "output_type": "execute_result"
    }
   ],
   "source": [
    "cnb = ComplementNB()\n",
    "pipeline = make_pipeline(TfidfVectorizer(analyzer='word', min_df=10, ngram_range=(1,3)), cnb)\n",
    "\n",
    "joblib.dump(pipeline, \"CNB_pipeline.pkl\")"
   ]
  },
  {
   "cell_type": "code",
   "execution_count": 10,
   "metadata": {},
   "outputs": [],
   "source": [
    "cnb = ComplementNB(alpha = 1.0, fit_prior = True)"
   ]
  },
  {
   "cell_type": "code",
   "execution_count": 11,
   "metadata": {},
   "outputs": [],
   "source": [
    "# Train the model on the training data\n",
    "cnb.fit(X_train, y_train)\n",
    "\n",
    "# Make predictions on the test data\n",
    "y_pred = cnb.predict(X_test)"
   ]
  },
  {
   "cell_type": "code",
   "execution_count": 12,
   "metadata": {},
   "outputs": [
    {
     "data": {
      "text/plain": [
       "['model.pkl']"
      ]
     },
     "execution_count": 12,
     "metadata": {},
     "output_type": "execute_result"
    }
   ],
   "source": [
    "joblib.dump(cnb, \"model.pkl\")"
   ]
  },
  {
   "cell_type": "code",
   "execution_count": 14,
   "metadata": {},
   "outputs": [
    {
     "name": "stdout",
     "output_type": "stream",
     "text": [
      "[0 0 2 0 0 0 2 2 2 2 1 0 0 0 0 0 0 1 2 1 2 0 0 0 0 0 0 0 0 0 2 0 0 0 0 2 0\n",
      " 0]\n"
     ]
    }
   ],
   "source": [
    "print(y_test)"
   ]
  },
  {
   "cell_type": "code",
   "execution_count": 15,
   "metadata": {},
   "outputs": [
    {
     "name": "stdout",
     "output_type": "stream",
     "text": [
      "[0 1 2 0 0 0 2 2 2 2 0 0 1 0 2 0 2 1 0 1 0 0 1 1 2 0 0 0 2 0 2 1 1 0 0 1 2\n",
      " 1]\n"
     ]
    }
   ],
   "source": [
    "print(y_pred) # There is no cases of intermediate outcomes in the pred set. Do I re-run it?"
   ]
  },
  {
   "cell_type": "code",
   "execution_count": 30,
   "metadata": {},
   "outputs": [
    {
     "name": "stdout",
     "output_type": "stream",
     "text": [
      "Accuracy (Weighted): 0.58\n",
      "Precision (Weighted): 0.71, Mean=0.71 , Std=0.00\n",
      "Recall (Weighted): 0.58, Mean=0.58, Std=0.00 \n",
      "F1 Score (Weighted): 0.61, Mean=0.61 ,Std=0.00\n",
      "AUROC (Weighted): 0.75, Mean=0.75, Std=0.00\n",
      "\n",
      "Accuracy (Unweighted): 0.58\n",
      "Precision, Recall, and F1 Score by Class:\n",
      "  Class 0: Precision=0.82, Recall=0.54, F1 Score=0.65\n",
      "  Class 1: Precision=0.20, Recall=0.67, F1 Score=0.31\n",
      "  Class 2: Precision=0.55, Recall=0.67, F1 Score=0.60\n"
     ]
    }
   ],
   "source": [
    "accuracy_weighted = accuracy_score(y_test, y_pred)\n",
    "precision_weighted = precision_score(y_test, y_pred, average='weighted')\n",
    "recall_weighted = recall_score(y_test, y_pred, average='weighted')\n",
    "f1_weighted = f1_score(y_test, y_pred, average='weighted')\n",
    "\n",
    "# Get the predicted probabilities\n",
    "y_pred_proba = cnb.predict_proba(X_test)\n",
    "\n",
    "# Calculate AUROC score using predicted probabilities\n",
    "auroc_weighted = roc_auc_score(y_test, y_pred_proba, average='weighted', multi_class='ovr')\n",
    "\n",
    "accuracy_unweighted = accuracy_score(y_test, y_pred)\n",
    "classification_metrics = classification_report(y_test, y_pred, output_dict=True)\n",
    "\n",
    "#Print metrics\n",
    "print(f'Accuracy (Weighted): {accuracy_weighted:.2f}')\n",
    "print(f'Precision (Weighted): {precision_weighted:.2f}, Mean={np.mean(precision_weighted):.2f} , Std={np.std(precision_weighted):.2f}')\n",
    "print(f'Recall (Weighted): {recall_weighted:.2f}, Mean={np.mean(recall_weighted):.2f}, Std={np.std(recall_weighted):.2f} ')\n",
    "print(f'F1 Score (Weighted): {f1_weighted:.2f}, Mean={np.mean(f1_weighted):.2f} ,Std={np.std(f1_weighted):.2f}')\n",
    "print(f'AUROC (Weighted): {auroc_weighted:.2f}, Mean={np.mean(auroc_weighted):.2f}, Std={np.std(auroc_weighted):.2f}')\n",
    "print()\n",
    "\n",
    "print(f'Accuracy (Unweighted): {accuracy_unweighted:.2f}')\n",
    "print(\"Precision, Recall, and F1 Score by Class:\")\n",
    "for cls, metrics in classification_metrics.items():\n",
    "    if cls.isdigit():  # Filter class-specific metrics\n",
    "        print(f\"  Class {cls}: Precision={metrics['precision']:.2f}, Recall={metrics['recall']:.2f}, F1 Score={metrics['f1-score']:.2f}\")"
   ]
  },
  {
   "cell_type": "code",
   "execution_count": 40,
   "metadata": {},
   "outputs": [
    {
     "data": {
      "image/png": "[encoded data removed]",
      "text/plain": [
       "<Figure size 640x480 with 1 Axes>"
      ]
     },
     "metadata": {},
     "output_type": "display_data"
    }
   ],
   "source": [
    "from sklearn.metrics import roc_curve\n",
    "\n",
    "# Calculate the AUC - ROC score\n",
    "roc_auc = roc_auc_score(y_test, y_pred_proba, average = 'weighted', multi_class='ovr')\n",
    "\n",
    "# Compute ROC curve for each class\n",
    "for i in range(cnb.classes_.shape[0]):\n",
    "\tfpr, tpr, _ = roc_curve(y_test, y_pred_proba[:, i], pos_label=i)\n",
    "\tplt.plot(fpr, tpr, lw=2, label=f'Class {i} (AUC = {roc_auc:.2f})')\n",
    "\n",
    "# Plot the diagonal 50% line\n",
    "plt.plot([0, 1], [0, 1], color='navy', lw=2, linestyle='--')\n",
    "\n",
    "# Customize the plot\n",
    "plt.xlim([0.0, 1.0])\n",
    "plt.ylim([0.0, 1.05])\n",
    "plt.xlabel('False Positive Rate')\n",
    "plt.ylabel('True Positive Rate')\n",
    "plt.title('ROC Curve Comparison Between Classes')\n",
    "plt.legend(loc=\"lower right\")\n",
    "plt.show()"
   ]
  },
  {
   "cell_type": "code",
   "execution_count": 29,
   "metadata": {},
   "outputs": [
    {
     "data": {
      "image/png": "[encoded data removed]",
      "text/plain": [
       "<Figure size 640x480 with 1 Axes>"
      ]
     },
     "metadata": {},
     "output_type": "display_data"
    }
   ],
   "source": [
    "from sklearn.metrics import precision_recall_curve\n",
    "\n",
    "# Compute precision-recall curve for each class\n",
    "for i in range(cnb.classes_.shape[0]):\n",
    "\ty_prob_train = cnb.predict_proba(X_train)[:, i]\n",
    "\ty_prob_test = cnb.predict_proba(X_test)[:, i]\n",
    "\n",
    "\tprecision, recall, thresholds = precision_recall_curve(y_train == i, y_prob_train)\n",
    "\tplt.plot(recall, precision, lw=2, label=f'Class {i}')\n",
    "\n",
    "plt.xlabel(\"Recall\")\n",
    "plt.ylabel(\"Precision\")\n",
    "plt.title(\"Train Precision-Recall curve\")\n",
    "plt.legend(loc=\"best\")\n",
    "plt.show()"
   ]
  },
  {
   "cell_type": "code",
   "execution_count": 26,
   "metadata": {},
   "outputs": [
    {
     "data": {
      "image/png": "[encoded data removed]",
      "text/plain": [
       "<Figure size 640x480 with 2 Axes>"
      ]
     },
     "metadata": {},
     "output_type": "display_data"
    }
   ],
   "source": [
    "conf_matrix = confusion_matrix(y_test, y_pred)\n",
    "disp = ConfusionMatrixDisplay(confusion_matrix=conf_matrix, display_labels=cnb.classes_)\n",
    "disp.plot(cmap=plt.cm.Greens)\n",
    "plt.title('Confusion Matrix of CNB Performance on EUCT Dataset')\n",
    "plt.show()"
   ]
  },
  {
   "cell_type": "markdown",
   "metadata": {},
   "source": [
    "Apply CNB model to NS-HRA dataset"
   ]
  },
  {
   "cell_type": "code",
   "execution_count": 13,
   "metadata": {},
   "outputs": [],
   "source": [
    "ns_hra = pd.read_csv('c:\\\\Users\\\\s2421127\\\\Documents\\\\NLP Project\\\\ObuayaO\\\\NLP project\\\\Chapter 3\\\\ns_hra.csv', encoding='unicode_escape')"
   ]
  },
  {
   "cell_type": "code",
   "execution_count": 14,
   "metadata": {},
   "outputs": [
    {
     "data": {
      "text/html": [
       "<div>\n",
       "<style scoped>\n",
       "    .dataframe tbody tr th:only-of-type {\n",
       "        vertical-align: middle;\n",
       "    }\n",
       "\n",
       "    .dataframe tbody tr th {\n",
       "        vertical-align: top;\n",
       "    }\n",
       "\n",
       "    .dataframe thead th {\n",
       "        text-align: right;\n",
       "    }\n",
       "</style>\n",
       "<table border=\"1\" class=\"dataframe\">\n",
       "  <thead>\n",
       "    <tr style=\"text-align: right;\">\n",
       "      <th></th>\n",
       "      <th>Unique_ID</th>\n",
       "      <th>Title</th>\n",
       "      <th>Phase</th>\n",
       "      <th>Objective</th>\n",
       "      <th>End_date</th>\n",
       "      <th>Sample_size</th>\n",
       "      <th>1ry_endpoint</th>\n",
       "      <th>Treatment</th>\n",
       "      <th>LT_followup</th>\n",
       "    </tr>\n",
       "  </thead>\n",
       "  <tbody>\n",
       "    <tr>\n",
       "      <th>0</th>\n",
       "      <td>IRAS_projectID_57754</td>\n",
       "      <td>phase ii multicenter randomized adaptive doubl...</td>\n",
       "      <td>ii</td>\n",
       "      <td>ass efficacy safety liquid suspension formulat...</td>\n",
       "      <td>31/05/2013 00:00</td>\n",
       "      <td>150.0</td>\n",
       "      <td>outcome measure motor function measure mfm d1 ...</td>\n",
       "      <td>NaN</td>\n",
       "      <td>Subjects will participate in the study for a t...</td>\n",
       "    </tr>\n",
       "    <tr>\n",
       "      <th>1</th>\n",
       "      <td>IRAS_projectID_82035</td>\n",
       "      <td>randomized controlled long term safety study e...</td>\n",
       "      <td>0</td>\n",
       "      <td>principal objective study ass long term safety...</td>\n",
       "      <td>30/09/2013 00:00</td>\n",
       "      <td>450.0</td>\n",
       "      <td>endpoint study change baseline total score nor...</td>\n",
       "      <td>NaN</td>\n",
       "      <td>Subjects will be involved in this study for ju...</td>\n",
       "    </tr>\n",
       "    <tr>\n",
       "      <th>2</th>\n",
       "      <td>IRAS_projectID_64187</td>\n",
       "      <td>randomized double blind double dummy parallel ...</td>\n",
       "      <td>0</td>\n",
       "      <td>ass whether efficacy ocrelizumab given two dos...</td>\n",
       "      <td>31/03/2015 00:00</td>\n",
       "      <td>800.0</td>\n",
       "      <td>efficacy analysis trial compare annualized pro...</td>\n",
       "      <td>NaN</td>\n",
       "      <td>Screening 2 weeks\\nTreatment phase 96 weeks\\nS...</td>\n",
       "    </tr>\n",
       "    <tr>\n",
       "      <th>3</th>\n",
       "      <td>IRAS_projectID_72673</td>\n",
       "      <td>multi centre open label randomised trial inves...</td>\n",
       "      <td>0</td>\n",
       "      <td>evaluate pharmacokinetics pk two different bat...</td>\n",
       "      <td>15/10/2011 00:00</td>\n",
       "      <td>10.0</td>\n",
       "      <td>endpoint pharmacokinetic endpoint pk endpoint ...</td>\n",
       "      <td>NaN</td>\n",
       "      <td>The subjects participation in the trial is exp...</td>\n",
       "    </tr>\n",
       "    <tr>\n",
       "      <th>4</th>\n",
       "      <td>IRAS_projectID_67978</td>\n",
       "      <td>use carer assisted adherence therapy people pa...</td>\n",
       "      <td>0</td>\n",
       "      <td>primary aim investigate seven week programme c...</td>\n",
       "      <td>NaN</td>\n",
       "      <td>120.0</td>\n",
       "      <td>outcome measure study morisky medication asses...</td>\n",
       "      <td>NaN</td>\n",
       "      <td>Three to three and a half months for patients ...</td>\n",
       "    </tr>\n",
       "    <tr>\n",
       "      <th>...</th>\n",
       "      <td>...</td>\n",
       "      <td>...</td>\n",
       "      <td>...</td>\n",
       "      <td>...</td>\n",
       "      <td>...</td>\n",
       "      <td>...</td>\n",
       "      <td>...</td>\n",
       "      <td>...</td>\n",
       "      <td>...</td>\n",
       "    </tr>\n",
       "    <tr>\n",
       "      <th>689</th>\n",
       "      <td>IRAS_projectID_289577</td>\n",
       "      <td>safety tolerability pharmacokinetics pharmacod...</td>\n",
       "      <td>0</td>\n",
       "      <td>primary objective trial compare safety tolerab...</td>\n",
       "      <td>21/10/2021 00:00</td>\n",
       "      <td>36.0</td>\n",
       "      <td>safety tolerability bi 1323495 assessed based ...</td>\n",
       "      <td>NaN</td>\n",
       "      <td>The Screening period of the study is 2-4 weeks...</td>\n",
       "    </tr>\n",
       "    <tr>\n",
       "      <th>690</th>\n",
       "      <td>IRAS_projectID_285292</td>\n",
       "      <td>phase 3 randomized double blind efficacy safet...</td>\n",
       "      <td>3</td>\n",
       "      <td>principal objective determine efficacy daily s...</td>\n",
       "      <td>27/09/2023 00:00</td>\n",
       "      <td>900.0</td>\n",
       "      <td>annualized adjudicated relapse rate number con...</td>\n",
       "      <td>NaN</td>\n",
       "      <td>The duration of the treatment period will vary...</td>\n",
       "    </tr>\n",
       "    <tr>\n",
       "      <th>691</th>\n",
       "      <td>IRAS_projectID_275551</td>\n",
       "      <td>phase 3 multicenter randomized double blind pl...</td>\n",
       "      <td>3</td>\n",
       "      <td>demonstrate superior efficacy treatment pf 069...</td>\n",
       "      <td>30/07/2027 00:00</td>\n",
       "      <td>99.0</td>\n",
       "      <td>change baseline week 52 north star ambulatory ...</td>\n",
       "      <td>NaN</td>\n",
       "      <td>Participants in Cohort 1 will be in the study ...</td>\n",
       "    </tr>\n",
       "    <tr>\n",
       "      <th>692</th>\n",
       "      <td>IRAS_projectID_290294</td>\n",
       "      <td>two part seamless multi center randomized plac...</td>\n",
       "      <td>0</td>\n",
       "      <td>primary objective study follows part 1 evaluat...</td>\n",
       "      <td>01/09/2023 00:00</td>\n",
       "      <td>231.0</td>\n",
       "      <td>endpoint part 2 change baseline total mfm 32 s...</td>\n",
       "      <td>NaN</td>\n",
       "      <td>The participant will be in the study for appro...</td>\n",
       "    </tr>\n",
       "    <tr>\n",
       "      <th>693</th>\n",
       "      <td>IRAS_projectID_282970</td>\n",
       "      <td>rehabilitation using virtual gaming hospital h...</td>\n",
       "      <td>0</td>\n",
       "      <td>feasibility randomised controlled trial testin...</td>\n",
       "      <td>03/01/2022 00:00</td>\n",
       "      <td>24.0</td>\n",
       "      <td>feasibility study outcome interest composite f...</td>\n",
       "      <td>NaN</td>\n",
       "      <td>Stroke survivors - each participant is expecte...</td>\n",
       "    </tr>\n",
       "  </tbody>\n",
       "</table>\n",
       "<p>694 rows × 9 columns</p>\n",
       "</div>"
      ],
      "text/plain": [
       "                 Unique_ID                                              Title  \\\n",
       "0     IRAS_projectID_57754  phase ii multicenter randomized adaptive doubl...   \n",
       "1     IRAS_projectID_82035  randomized controlled long term safety study e...   \n",
       "2     IRAS_projectID_64187  randomized double blind double dummy parallel ...   \n",
       "3     IRAS_projectID_72673  multi centre open label randomised trial inves...   \n",
       "4     IRAS_projectID_67978  use carer assisted adherence therapy people pa...   \n",
       "..                     ...                                                ...   \n",
       "689  IRAS_projectID_289577  safety tolerability pharmacokinetics pharmacod...   \n",
       "690  IRAS_projectID_285292  phase 3 randomized double blind efficacy safet...   \n",
       "691  IRAS_projectID_275551  phase 3 multicenter randomized double blind pl...   \n",
       "692  IRAS_projectID_290294  two part seamless multi center randomized plac...   \n",
       "693  IRAS_projectID_282970  rehabilitation using virtual gaming hospital h...   \n",
       "\n",
       "    Phase                                          Objective  \\\n",
       "0      ii  ass efficacy safety liquid suspension formulat...   \n",
       "1       0  principal objective study ass long term safety...   \n",
       "2       0  ass whether efficacy ocrelizumab given two dos...   \n",
       "3       0  evaluate pharmacokinetics pk two different bat...   \n",
       "4       0  primary aim investigate seven week programme c...   \n",
       "..    ...                                                ...   \n",
       "689     0  primary objective trial compare safety tolerab...   \n",
       "690     3  principal objective determine efficacy daily s...   \n",
       "691     3  demonstrate superior efficacy treatment pf 069...   \n",
       "692     0  primary objective study follows part 1 evaluat...   \n",
       "693     0  feasibility randomised controlled trial testin...   \n",
       "\n",
       "             End_date  Sample_size  \\\n",
       "0    31/05/2013 00:00        150.0   \n",
       "1    30/09/2013 00:00        450.0   \n",
       "2    31/03/2015 00:00        800.0   \n",
       "3    15/10/2011 00:00         10.0   \n",
       "4                 NaN        120.0   \n",
       "..                ...          ...   \n",
       "689  21/10/2021 00:00         36.0   \n",
       "690  27/09/2023 00:00        900.0   \n",
       "691  30/07/2027 00:00         99.0   \n",
       "692  01/09/2023 00:00        231.0   \n",
       "693  03/01/2022 00:00         24.0   \n",
       "\n",
       "                                          1ry_endpoint  Treatment  \\\n",
       "0    outcome measure motor function measure mfm d1 ...        NaN   \n",
       "1    endpoint study change baseline total score nor...        NaN   \n",
       "2    efficacy analysis trial compare annualized pro...        NaN   \n",
       "3    endpoint pharmacokinetic endpoint pk endpoint ...        NaN   \n",
       "4    outcome measure study morisky medication asses...        NaN   \n",
       "..                                                 ...        ...   \n",
       "689  safety tolerability bi 1323495 assessed based ...        NaN   \n",
       "690  annualized adjudicated relapse rate number con...        NaN   \n",
       "691  change baseline week 52 north star ambulatory ...        NaN   \n",
       "692  endpoint part 2 change baseline total mfm 32 s...        NaN   \n",
       "693  feasibility study outcome interest composite f...        NaN   \n",
       "\n",
       "                                           LT_followup  \n",
       "0    Subjects will participate in the study for a t...  \n",
       "1    Subjects will be involved in this study for ju...  \n",
       "2    Screening 2 weeks\\nTreatment phase 96 weeks\\nS...  \n",
       "3    The subjects participation in the trial is exp...  \n",
       "4    Three to three and a half months for patients ...  \n",
       "..                                                 ...  \n",
       "689  The Screening period of the study is 2-4 weeks...  \n",
       "690  The duration of the treatment period will vary...  \n",
       "691  Participants in Cohort 1 will be in the study ...  \n",
       "692  The participant will be in the study for appro...  \n",
       "693  Stroke survivors - each participant is expecte...  \n",
       "\n",
       "[694 rows x 9 columns]"
      ]
     },
     "metadata": {},
     "output_type": "display_data"
    }
   ],
   "source": [
    "display(ns_hra)\n",
    "# Did not clean long-term follow up because it is not included in the feature set."
   ]
  },
  {
   "cell_type": "code",
   "execution_count": 14,
   "metadata": {},
   "outputs": [],
   "source": [
    "ns_hra['concat_corpus'] = ns_hra['Title']+ \" \" + ns_hra['Objective'] + \" \" + ns_hra['1ry_endpoint'] "
   ]
  },
  {
   "cell_type": "code",
   "execution_count": 15,
   "metadata": {},
   "outputs": [],
   "source": [
    "ns_hra['concat_corpus'] = ns_hra['concat_corpus'].fillna('')"
   ]
  },
  {
   "cell_type": "code",
   "execution_count": 17,
   "metadata": {},
   "outputs": [
    {
     "name": "stdout",
     "output_type": "stream",
     "text": [
      "0    phase ii multicenter randomized adaptive doubl...\n",
      "1    randomized controlled long term safety study e...\n",
      "2    randomized double blind double dummy parallel ...\n",
      "3    multi centre open label randomised trial inves...\n",
      "4    use carer assisted adherence therapy people pa...\n",
      "Name: concat_corpus, dtype: object\n"
     ]
    }
   ],
   "source": [
    "print(ns_hra['concat_corpus'].head())"
   ]
  },
  {
   "cell_type": "code",
   "execution_count": 16,
   "metadata": {},
   "outputs": [],
   "source": [
    "vectorizer = joblib.load(\"tf_idf embeddings.pkl\")"
   ]
  },
  {
   "cell_type": "code",
   "execution_count": 20,
   "metadata": {},
   "outputs": [
    {
     "name": "stdout",
     "output_type": "stream",
     "text": [
      "<class 'sklearn.feature_extraction.text.TfidfVectorizer'>\n"
     ]
    }
   ],
   "source": [
    "print(type(vectorizer))"
   ]
  },
  {
   "cell_type": "code",
   "execution_count": 17,
   "metadata": {},
   "outputs": [],
   "source": [
    "X2 = vectorizer.transform(ns_hra['concat_corpus'])"
   ]
  },
  {
   "cell_type": "code",
   "execution_count": 18,
   "metadata": {},
   "outputs": [],
   "source": [
    "model = joblib.load('model.pkl')"
   ]
  },
  {
   "cell_type": "code",
   "execution_count": 19,
   "metadata": {},
   "outputs": [
    {
     "name": "stderr",
     "output_type": "stream",
     "text": [
      "c:\\Users\\s2421127\\AppData\\Local\\miniconda3\\envs\\clustering_endpoints\\Lib\\site-packages\\sklearn\\base.py:493: UserWarning: X does not have valid feature names, but ComplementNB was fitted with feature names\n",
      "  warnings.warn(\n"
     ]
    },
    {
     "data": {
      "text/plain": [
       "array([1, 0, 2, 2, 2, 2, 1, 2, 2, 0, 0, 2, 2, 0, 2, 0, 2, 2, 2, 2, 2, 0,\n",
       "       2, 0, 2, 0, 2, 0, 0, 0, 0, 0, 1, 2, 1, 0, 2, 2, 1, 0, 0, 2, 1, 2,\n",
       "       0, 0, 2, 0, 2, 0, 1, 2, 1, 0, 0, 2, 1, 1, 2, 0, 1, 0, 1, 1, 2, 2,\n",
       "       1, 2, 0, 1, 0, 1, 0, 1, 2, 1, 0, 0, 0, 2, 1, 0, 1, 1, 2, 2, 1, 2,\n",
       "       1, 0, 1, 0, 2, 1, 2, 2, 1, 0, 1, 2, 0, 1, 0, 2, 0, 1, 0, 2, 1, 1,\n",
       "       1, 0, 0, 1, 2, 0, 0, 2, 2, 0, 0, 2, 0, 0, 2, 2, 2, 1, 0, 0, 0, 2,\n",
       "       0, 2, 2, 0, 1, 0, 2, 2, 0, 2, 0, 1, 1, 0, 2, 0, 2, 2, 2, 0, 0, 1,\n",
       "       2, 1, 1, 2, 0, 2, 1, 1, 2, 0, 2, 0, 0, 0, 2, 0, 0, 2, 1, 1, 2, 1,\n",
       "       0, 1, 1, 0, 2, 1, 2, 0, 2, 2, 0, 0, 1, 2, 0, 0, 2, 2, 0, 0, 0, 0,\n",
       "       2, 1, 0, 0, 0, 1, 1, 0, 1, 1, 1, 0, 2, 0, 2, 0, 1, 2, 0, 1, 1, 2,\n",
       "       0, 1, 1, 2, 1, 0, 2, 2, 1, 2, 2, 1, 2, 1, 1, 0, 2, 0, 0, 1, 2, 0,\n",
       "       0, 2, 2, 0, 0, 1, 2, 0, 0, 0, 0, 0, 0, 2, 2, 2, 2, 1, 2, 2, 0, 2,\n",
       "       1, 0, 2, 1, 2, 0, 1, 0, 0, 2, 0, 1, 1, 2, 0, 2, 1, 0, 0, 1, 0, 2,\n",
       "       2, 2, 2, 2, 1, 2, 0, 2, 0, 2, 0, 1, 0, 0, 2, 0, 2, 0, 2, 1, 2, 0,\n",
       "       1, 1, 0, 2, 2, 1, 0, 1, 2, 1, 1, 0, 2, 0, 0, 0, 2, 0, 0, 2, 2, 0,\n",
       "       0, 2, 1, 0, 0, 1, 0, 0, 0, 2, 0, 1, 1, 2, 0, 2, 0, 1, 1, 0, 2, 0,\n",
       "       0, 2, 0, 2, 0, 2, 2, 1, 0, 1, 1, 2, 0, 2, 0, 0, 2, 0, 0, 1, 0, 0,\n",
       "       1, 2, 2, 2, 2, 0, 1, 0, 0, 2, 0, 1, 2, 1, 0, 1, 1, 0, 2, 2, 0, 0,\n",
       "       1, 1, 1, 1, 1, 1, 0, 2, 0, 0, 2, 0, 0, 2, 0, 2, 1, 0, 1, 2, 0, 0,\n",
       "       2, 0, 1, 1, 0, 2, 0, 0, 2, 2, 0, 2, 0, 1, 1, 0, 2, 2, 1, 2, 2, 2,\n",
       "       2, 0, 2, 0, 1, 0, 2, 0, 2, 2, 0, 2, 0, 0, 1, 2, 1, 1, 1, 1, 0, 1,\n",
       "       2, 2, 0, 1, 1, 1, 2, 0, 0, 1, 1, 1, 2, 2, 1, 1, 2, 1, 0, 0, 0, 1,\n",
       "       2, 2, 1, 1, 0, 1, 2, 1, 0, 2, 0, 0, 2, 2, 0, 0, 2, 1, 2, 2, 1, 1,\n",
       "       2, 0, 2, 0, 1, 2, 1, 2, 0, 1, 1, 1, 2, 2, 2, 2, 2, 1, 0, 1, 2, 0,\n",
       "       0, 2, 2, 0, 0, 2, 1, 2, 0, 0, 0, 2, 1, 2, 0, 2, 0, 1, 2, 0, 0, 2,\n",
       "       1, 0, 0, 0, 1, 0, 0, 0, 0, 0, 1, 0, 2, 1, 2, 2, 0, 2, 2, 2, 0, 1,\n",
       "       2, 0, 0, 2, 2, 1, 0, 1, 1, 1, 2, 2, 1, 1, 0, 0, 2, 2, 0, 0, 0, 1,\n",
       "       2, 1, 2, 1, 2, 0, 1, 1, 2, 0, 0, 0, 1, 0, 0, 2, 2, 1, 2, 0, 1, 1,\n",
       "       0, 1, 2, 0, 1, 1, 1, 2, 0, 2, 0, 0, 2, 0, 2, 1, 0, 2, 1, 1, 1, 0,\n",
       "       1, 0, 0, 0, 2, 0, 0, 0, 1, 1, 0, 1, 0, 2, 0, 1, 0, 2, 1, 1, 2, 0,\n",
       "       2, 1, 1, 2, 0, 1, 0, 1, 2, 1, 2, 0, 0, 1, 0, 1, 0, 2, 1, 1, 0, 2,\n",
       "       0, 1, 0, 0, 1, 1, 2, 0, 1, 0, 1, 2], dtype=int64)"
      ]
     },
     "execution_count": 19,
     "metadata": {},
     "output_type": "execute_result"
    }
   ],
   "source": [
    "model.predict(X2)"
   ]
  },
  {
   "cell_type": "code",
   "execution_count": 20,
   "metadata": {},
   "outputs": [],
   "source": [
    "y_pred = model.predict(X2)"
   ]
  },
  {
   "cell_type": "code",
   "execution_count": 21,
   "metadata": {},
   "outputs": [],
   "source": [
    "feature_names = vectorizer.get_feature_names_out()\n",
    "X2_df = pd.DataFrame(X2.toarray(), columns=feature_names)"
   ]
  },
  {
   "cell_type": "code",
   "execution_count": 22,
   "metadata": {},
   "outputs": [],
   "source": [
    "y_pred = model.predict(X2_df)\n",
    "# To fix the warning above"
   ]
  },
  {
   "cell_type": "code",
   "execution_count": 23,
   "metadata": {},
   "outputs": [
    {
     "name": "stdout",
     "output_type": "stream",
     "text": [
      "{0: 264, 1: 196, 2: 234}\n"
     ]
    }
   ],
   "source": [
    "unique, counts = np.unique(y_pred, return_counts=True)\n",
    "print(dict(zip(unique, counts)))"
   ]
  },
  {
   "cell_type": "code",
   "execution_count": 25,
   "metadata": {},
   "outputs": [
    {
     "name": "stdout",
     "output_type": "stream",
     "text": [
      "Average confidence: 0.41\n"
     ]
    }
   ],
   "source": [
    "confidences = model.predict_proba(X2_df).max(axis=1)\n",
    "print(f\"Average confidence: {np.mean(confidences):.2f}\")"
   ]
  },
  {
   "cell_type": "code",
   "execution_count": 23,
   "metadata": {},
   "outputs": [
    {
     "name": "stdout",
     "output_type": "stream",
     "text": [
      "Confidence for predicting class 2: 0.42\n"
     ]
    }
   ],
   "source": [
    "surrogate_confidence_class_2 = model.predict_proba(X2_df.iloc[[2]])[0][2]\n",
    "print(f\"Confidence for predicting class 2: {surrogate_confidence_class_2:.2f}\")"
   ]
  },
  {
   "cell_type": "code",
   "execution_count": 26,
   "metadata": {},
   "outputs": [
    {
     "name": "stdout",
     "output_type": "stream",
     "text": [
      "Low confidence predictions: 679\n"
     ]
    }
   ],
   "source": [
    "low_confidence_indices = np.where(confidences < 0.6)[0]\n",
    "print(f\"Low confidence predictions: {len(low_confidence_indices)}\")"
   ]
  },
  {
   "cell_type": "markdown",
   "metadata": {},
   "source": [
    "Active learning"
   ]
  },
  {
   "cell_type": "markdown",
   "metadata": {},
   "source": [
    "1. Least confidence sampling"
   ]
  },
  {
   "cell_type": "code",
   "execution_count": 27,
   "metadata": {},
   "outputs": [
    {
     "name": "stdout",
     "output_type": "stream",
     "text": [
      "Please manually label the following samples:\n",
      "Unique_ID: IRAS_projectID_257107\n",
      "Preprocessed Text: randomised clinical trial determine aesthetic outcome failure rate new compared current design resin retained bridge determine change current resin retained bridge design improve aesthetic outcome aesthetic score\n",
      "\n"
     ]
    },
    {
     "name": "stdout",
     "output_type": "stream",
     "text": [
      "Unique_ID: IRAS_projectID_234380\n",
      "Preprocessed Text: multicenter randomized double blind parallel group placebo controlled study open label period evaluate efficacy safety fremanezumab prophylactic treatment migraine patient inadequate response prior preventive treatment primary objective study demonstrate efficacy fremanezumab administered monthly quarterly subcutaneous sc injection adult patient migraine inadequate response 2 4 class prior preventive treatment compared placebo efficacy endpoint mean change baseline 28 day run period monthly average number migraine day 12 week period 1st dose fremanezumab\n",
      "\n",
      "Unique_ID: IRAS_projectID_129832\n",
      "Preprocessed Text: randomised double blind placebo controlled phase iia study ass pharmacodynamics safety pharmacokinetics azd4901 given multiple dos female polycystic ovary syndrome primary objective study determine change baseline luteinising hormone lh area concentration curve time zero 8 hour postdose auc 0 8 day 7 comparison placebo change baseline day 7 luteinising hormone auc area concentration time curve 0 8 hour\n",
      "\n",
      "Unique_ID: IRAS_projectID_221870\n",
      "Preprocessed Text: open label multi center randomized dose escalation phase ib study evaluate safety pharmacokinetics therapeutic activity ro6874281 combination atezolizumab a bevacizumab following obinutuzumab pre treatment patient unresectable advanced metastatic renal cell carcinoma primary objective study dose escalation part AA determine maximum tolerated dose mtd recommended dose development ro6874281 used combination atezolizumab bevacizumab initial pre treatment obinutuzumab extension part AA describe therapeutic activity objective response rate orr selected dose regimen ro6874281 used combination atezolizumab bevacizumab initial pre treatment obinutuzumab safety outcome measure study follows AA incidence dlts AA incidence severity adverse event irrs AA incidence laboratory abnormality hematology testing coagulation serum chemistry urinalysis serum thyroid stimulating hormone AA incidence ada AA physical examination finding particularly body weight AA triplicate 12 lead ecg AA vital sign AA global initiative chronic obstructive lung disease gold level classification pulmonary function assessed must provide enough reserve meet gold 1 AA autoantibody panel\n",
      "\n",
      "Unique_ID: IRAS_projectID_225434\n",
      "Preprocessed Text: phase 2 randomized double blind dose ranging study determine pharmacokinetics safety tolerability vedolizumab iv pediatric subject ulcerative colitis crohna a disease evaluate vedolizumab pharmacokinetics paediatric participant ulcerative colitis uc crohnAA AA disease cd e determine happens medication vedolizumab taken paediatric participant endpoint study pk parameter week 14 area serum concentration time curve week 14 aucwk 14 average serum concentration dosing interval week 14 cav wk 14 observed serum concentration end week 14 ctrough wk 14\n",
      "\n",
      "Unique_ID: IRAS_projectID_199081\n",
      "Preprocessed Text: phase iia randomised double blind placebo controlled three way crossover study ass pharmacokinetics rpl554 administered adult patient cystic fibrosis investigate pharmacokinetics single nebulised dos rpl554 patient cystic fibrosis rpl554 pharmacokinetic parameter auc cmax tmax t1 2\n",
      "\n",
      "Unique_ID: IRAS_projectID_138798\n",
      "Preprocessed Text: \n",
      "\n"
     ]
    }
   ],
   "source": [
    "# Define X2_unlabeled as a subset of X2 that has not been labeled yet\n",
    "X2_unlabeled = X2_df  # Assuming all samples in X2_df are unlabeled\n",
    "\n",
    "# Obtain probabilities and calculate uncertainty scores\n",
    "probs = model.predict_proba(X2_unlabeled)  # Predict probabilities for NS-HRA dataset\n",
    "uncertainty_scores = 1 - probs.max(axis=1)  # Least confidence sampling\n",
    "\n",
    "# Select the top N most uncertain samples (e.g., N = 7)\n",
    "n_samples = 7\n",
    "most_uncertain_indices = uncertainty_scores.argsort()[-n_samples:]\n",
    "\n",
    "# Extract the corresponding Unique_IDs and preprocessed concatenated text\n",
    "X_initial_raw = ns_hra.iloc[most_uncertain_indices]  # Extract rows by indices\n",
    "\n",
    "# Define a function to manually label the samples\n",
    "def manually_label_samples(selected_rows):\n",
    "    \"\"\"\n",
    "    Function to display Unique_ID and preprocessed concatenated text for manual labeling.\n",
    "\n",
    "    Args:\n",
    "        selected_rows: DataFrame containing rows of the dataset.\n",
    "\n",
    "    Returns:\n",
    "        List of manually labeled classes.\n",
    "    \"\"\"\n",
    "    labels = []\n",
    "    for idx, row in selected_rows.iterrows():\n",
    "        print(f\"Unique_ID: {row['Unique_ID']}\")\n",
    "        print(f\"Preprocessed Text: {row['concat_corpus']}\\n\")\n",
    "        label = input(\"Enter label for this sample (e.g., 0, 1, 2): \")\n",
    "        labels.append(int(label))  # Convert label to integer\n",
    "    return labels\n",
    "\n",
    "# Call the manual labeling function\n",
    "print(\"Please manually label the following samples:\")\n",
    "y_initial = manually_label_samples(X_initial_raw)"
   ]
  },
  {
   "cell_type": "code",
   "execution_count": 28,
   "metadata": {},
   "outputs": [],
   "source": [
    "labeled_data = X_initial_raw.copy()\n",
    "labeled_data['Label'] = y_initial"
   ]
  },
  {
   "cell_type": "code",
   "execution_count": 29,
   "metadata": {},
   "outputs": [],
   "source": [
    "X2_unlabeled = X2_unlabeled.drop(index=most_uncertain_indices)"
   ]
  },
  {
   "cell_type": "markdown",
   "metadata": {},
   "source": [
    "Determine best classifiers using grid search"
   ]
  },
  {
   "cell_type": "code",
   "execution_count": 31,
   "metadata": {},
   "outputs": [
    {
     "name": "stdout",
     "output_type": "stream",
     "text": [
      "Training ComplementNB...\n"
     ]
    },
    {
     "name": "stderr",
     "output_type": "stream",
     "text": [
      "c:\\Users\\s2421127\\AppData\\Local\\miniconda3\\envs\\clustering_endpoints\\Lib\\site-packages\\sklearn\\model_selection\\_split.py:776: UserWarning: The least populated class in y has only 1 members, which is less than n_splits=3.\n",
      "  warnings.warn(\n"
     ]
    },
    {
     "name": "stdout",
     "output_type": "stream",
     "text": [
      "Best ComplementNB model: {'model': ComplementNB(), 'model__alpha': 0.1, 'model__fit_prior': True}\n",
      "Training SVM...\n",
      "Best SVM model: {'model': SVC(probability=True), 'model__C': 0.1, 'model__kernel': 'linear'}\n",
      "Training RandomForest...\n"
     ]
    },
    {
     "name": "stderr",
     "output_type": "stream",
     "text": [
      "c:\\Users\\s2421127\\AppData\\Local\\miniconda3\\envs\\clustering_endpoints\\Lib\\site-packages\\sklearn\\model_selection\\_split.py:776: UserWarning: The least populated class in y has only 1 members, which is less than n_splits=3.\n",
      "  warnings.warn(\n",
      "c:\\Users\\s2421127\\AppData\\Local\\miniconda3\\envs\\clustering_endpoints\\Lib\\site-packages\\sklearn\\model_selection\\_split.py:776: UserWarning: The least populated class in y has only 1 members, which is less than n_splits=3.\n",
      "  warnings.warn(\n"
     ]
    },
    {
     "name": "stdout",
     "output_type": "stream",
     "text": [
      "Best RandomForest model: {'model': RandomForestClassifier(), 'model__max_depth': None, 'model__n_estimators': 100}\n",
      "Training MLP...\n"
     ]
    },
    {
     "name": "stderr",
     "output_type": "stream",
     "text": [
      "c:\\Users\\s2421127\\AppData\\Local\\miniconda3\\envs\\clustering_endpoints\\Lib\\site-packages\\sklearn\\model_selection\\_split.py:776: UserWarning: The least populated class in y has only 1 members, which is less than n_splits=3.\n",
      "  warnings.warn(\n"
     ]
    },
    {
     "name": "stdout",
     "output_type": "stream",
     "text": [
      "Best MLP model: {'model': MLPClassifier(max_iter=500), 'model__activation': 'tanh', 'model__hidden_layer_sizes': (5,)}\n",
      "Best overall classifier: ComplementNB\n"
     ]
    },
    {
     "name": "stderr",
     "output_type": "stream",
     "text": [
      "c:\\Users\\s2421127\\AppData\\Local\\miniconda3\\envs\\clustering_endpoints\\Lib\\site-packages\\sklearn\\model_selection\\_search.py:412: VisibleDeprecationWarning: Creating an ndarray from ragged nested sequences (which is a list-or-tuple of lists-or-tuples-or ndarrays with different lengths or shapes) is deprecated. If you meant to do this, you must specify 'dtype=object' when creating the ndarray.\n",
      "  arr = np.array(param_list)\n",
      "c:\\Users\\s2421127\\AppData\\Local\\miniconda3\\envs\\clustering_endpoints\\Lib\\site-packages\\sklearn\\neural_network\\_multilayer_perceptron.py:690: ConvergenceWarning: Stochastic Optimizer: Maximum iterations (500) reached and the optimization hasn't converged yet.\n",
      "  warnings.warn(\n"
     ]
    }
   ],
   "source": [
    "from sklearn.model_selection import GridSearchCV\n",
    "from sklearn.pipeline import Pipeline\n",
    "from sklearn.svm import SVC\n",
    "from sklearn.ensemble import RandomForestClassifier\n",
    "from sklearn.neural_network import MLPClassifier\n",
    "from sklearn.preprocessing import StandardScaler\n",
    "\n",
    "# Define parameter grids for different classifiers\n",
    "param_grids = {\n",
    "    'ComplementNB': {\n",
    "        'model': [ComplementNB()],\n",
    "        'model__alpha': [0.1, 0.5, 1],\n",
    "        'model__fit_prior': [True, False],\n",
    "    },\n",
    "    'SVM': {\n",
    "        'model': [SVC(probability=True)],\n",
    "        'model__C': [0.1, 1, 10],\n",
    "        'model__kernel': ['linear', 'rbf'],\n",
    "    },\n",
    "    'RandomForest': {\n",
    "        'model': [RandomForestClassifier()],\n",
    "        'model__n_estimators': [50, 100, 200],\n",
    "        'model__max_depth': [None, 10, 20],\n",
    "    },\n",
    "    'MLP': {\n",
    "        'model': [MLPClassifier(max_iter=500)],\n",
    "        'model__hidden_layer_sizes': [(5,), (10,), (5, 5)],\n",
    "        'model__activation': ['relu', 'tanh'],\n",
    "    }\n",
    "}\n",
    "\n",
    "# Define a preprocessing pipeline (e.g., scaling if needed)\n",
    "pipeline = Pipeline([\n",
    "    ('scaler', StandardScaler(with_mean=False)),  # For sparse matrices, set `with_mean=False`\n",
    "    ('model', ComplementNB())  # Placeholder for the classifier\n",
    "])\n",
    "\n",
    "# Reset the indices of X2_unlabeled and most_uncertain_indices\n",
    "X2_unlabeled_reset = X2_unlabeled.reset_index(drop=True)\n",
    "most_uncertain_indices_reset = most_uncertain_indices % len(X2_unlabeled_reset)\n",
    "\n",
    "# Extract initial labeled data\n",
    "X_initial = X2_unlabeled_reset.iloc[most_uncertain_indices_reset]\n",
    "y_initial = labeled_data['Label']\n",
    "\n",
    "# Iterate over classifiers and parameter grids\n",
    "best_models = {}\n",
    "for name, param_grid in param_grids.items():\n",
    "    print(f\"Training {name}...\")\n",
    "    grid = GridSearchCV(pipeline, param_grid, cv=3, scoring='recall_weighted', n_jobs=-1)\n",
    "    grid.fit(X_initial, y_initial)\n",
    "    best_models[name] = grid.best_estimator_\n",
    "    print(f\"Best {name} model: {grid.best_params_}\")\n",
    "\n",
    "# Choose the best classifier based on cross-validation scores\n",
    "best_classifier_name = max(best_models, key=lambda x: best_models[x].score(X_initial, y_initial))\n",
    "best_model = best_models[best_classifier_name]\n",
    "\n",
    "print(f\"Best overall classifier: {best_classifier_name}\")"
   ]
  },
  {
   "cell_type": "code",
   "execution_count": null,
   "metadata": {},
   "outputs": [],
   "source": [
    "Train the classifier"
   ]
  },
  {
   "cell_type": "code",
   "execution_count": 33,
   "metadata": {},
   "outputs": [],
   "source": [
    "vectorizer = TfidfVectorizer(analyzer='word', min_df=10, ngram_range=(1,3))\n",
    "tfidf_matrix = vectorizer.fit_transform(ns_hra['concat_corpus'])\n",
    "tfidf_df = pd.DataFrame(tfidf_matrix.toarray(), columns=vectorizer.get_feature_names_out())"
   ]
  },
  {
   "cell_type": "code",
   "execution_count": 34,
   "metadata": {},
   "outputs": [],
   "source": [
    "X = tfidf_df\n",
    "y = y_initial"
   ]
  },
  {
   "cell_type": "code",
   "execution_count": null,
   "metadata": {},
   "outputs": [],
   "source": [
    "# Train-test split\n",
    "X_train, X_test, y_train, y_test = train_test_split(\n",
    "    X, y, test_size=0.2, random_state=42\n",
    ")"
   ]
  },
  {
   "cell_type": "code",
   "execution_count": null,
   "metadata": {},
   "outputs": [],
   "source": [
    "cnb = ComplementNB()\n",
    "pipeline = make_pipeline(TfidfVectorizer(analyzer='word', min_df=10, ngram_range=(1,3)), cnb)"
   ]
  },
  {
   "cell_type": "code",
   "execution_count": null,
   "metadata": {},
   "outputs": [],
   "source": [
    "cnb = ComplementNB(alpha = 0.1, fit_prior = True)"
   ]
  }
 ],
 "metadata": {
  "kernelspec": {
   "display_name": "clustering_endpoints",
   "language": "python",
   "name": "python3"
  },
  "language_info": {
   "codemirror_mode": {
    "name": "ipython",
    "version": 3
   },
   "file_extension": ".py",
   "mimetype": "text/x-python",
   "name": "python",
   "nbconvert_exporter": "python",
   "pygments_lexer": "ipython3",
   "version": "3.11.9"
  }
 },
 "nbformat": 4,
 "nbformat_minor": 2
}
